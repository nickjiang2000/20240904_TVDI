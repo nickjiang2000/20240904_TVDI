{
 "cells": [
  {
   "cell_type": "code",
   "execution_count": 1,
   "metadata": {},
   "outputs": [
    {
     "data": {
      "text/plain": [
       "'相加後的值是8'"
      ]
     },
     "execution_count": 1,
     "metadata": {},
     "output_type": "execute_result"
    }
   ],
   "source": [
    "## python decorator\n",
    "## function可以有資料類型\n",
    "## function可以當作別的function的引數值\n",
    "from typing import Callable\n",
    "\n",
    "MyFunctionType = Callable[[int,int],str]\n",
    "\n",
    "\n",
    "def my_function(a:int, b:int) -> str:\n",
    "    return f\"相加後的值是{a + b}\"\n",
    "\n",
    "def apply_function(func:MyFunctionType,x:int,y:int) -> str:\n",
    "    return func(x, y)\n",
    "\n",
    "apply_function(my_function,3,5)"
   ]
  },
  {
   "cell_type": "code",
   "execution_count": 2,
   "metadata": {},
   "outputs": [
    {
     "name": "stdout",
     "output_type": "stream",
     "text": [
      "sayHello!\n"
     ]
    }
   ],
   "source": [
    "## function可以參考至變數\n",
    "\n",
    "def greet():\n",
    "    print('sayHello!')\n",
    "\n",
    "say_hello = greet\n",
    "say_hello()"
   ]
  },
  {
   "cell_type": "code",
   "execution_count": 3,
   "metadata": {},
   "outputs": [],
   "source": [
    "## function 可以當作別的function的傳出值\n",
    "\n",
    "def outter_function():\n",
    "    print(\"這是outterFunction\")\n",
    "    def inner_function():\n",
    "        print(\"這是innerFunction\")\n",
    "\n",
    "    return inner_function"
   ]
  },
  {
   "cell_type": "code",
   "execution_count": 4,
   "metadata": {},
   "outputs": [
    {
     "name": "stdout",
     "output_type": "stream",
     "text": [
      "這是outterFunction\n"
     ]
    }
   ],
   "source": [
    "my_func = outter_function()"
   ]
  },
  {
   "cell_type": "code",
   "execution_count": 5,
   "metadata": {},
   "outputs": [
    {
     "name": "stdout",
     "output_type": "stream",
     "text": [
      "這是innerFunction\n"
     ]
    }
   ],
   "source": [
    "my_func()"
   ]
  }
 ],
 "metadata": {
  "kernelspec": {
   "display_name": "tvdi",
   "language": "python",
   "name": "python3"
  },
  "language_info": {
   "codemirror_mode": {
    "name": "ipython",
    "version": 3
   },
   "file_extension": ".py",
   "mimetype": "text/x-python",
   "name": "python",
   "nbconvert_exporter": "python",
   "pygments_lexer": "ipython3",
   "version": "3.11.10"
  }
 },
 "nbformat": 4,
 "nbformat_minor": 2
}
