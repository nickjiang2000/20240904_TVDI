{
 "cells": [
  {
   "cell_type": "code",
   "execution_count": 19,
   "metadata": {},
   "outputs": [],
   "source": [
    "import csv\n",
    "import requests\n",
    "from requests import Response\n",
    "\n",
    "urla1 = 'https://data.moi.gov.tw/MoiOD/System/DownloadFile.aspx?DATA=5481753E-52AF-40DA-9A8A-9E192B245E13'\n",
    "urla2 = 'https://data.moi.gov.tw/MoiOD/System/DownloadFile.aspx?DATA=44E49A04-8DE8-4E74-B872-BE322286C940'\n",
    "urla3 = 'https://media.gq.com.tw/photos/6666a988382caac8581d3969/16:9/w_2240,c_limit/08120706-hierarchy-101-unit-s30j2v030_cover_1600x1067%20%E6%8B%B7%E8%B2%9D.jpg'\n"
   ]
  },
  {
   "cell_type": "code",
   "execution_count": 13,
   "metadata": {},
   "outputs": [],
   "source": [
    "response:Response = requests.get(urla1)\n",
    "\n",
    "with open('a1.csv', mode='w', newline='', encoding='UTF-8') as a1:\n",
    "    a1.write(response.text)"
   ]
  },
  {
   "cell_type": "code",
   "execution_count": 17,
   "metadata": {},
   "outputs": [],
   "source": [
    "response:Response = requests.get(urla2)\n",
    "\n",
    "with open('a2.json', mode='w', newline='', encoding='UTF-8') as a2:\n",
    "    a2.write(response.text)"
   ]
  },
  {
   "cell_type": "code",
   "execution_count": 21,
   "metadata": {},
   "outputs": [],
   "source": [
    "response:Response = requests.get(urla3)\n",
    "\n",
    "with open('a3.jpg', mode='wb') as a3:\n",
    "    a3.write(response.content)"
   ]
  }
 ],
 "metadata": {
  "kernelspec": {
   "display_name": "NickHome",
   "language": "python",
   "name": "python3"
  },
  "language_info": {
   "codemirror_mode": {
    "name": "ipython",
    "version": 3
   },
   "file_extension": ".py",
   "mimetype": "text/x-python",
   "name": "python",
   "nbconvert_exporter": "python",
   "pygments_lexer": "ipython3",
   "version": "3.11.10"
  }
 },
 "nbformat": 4,
 "nbformat_minor": 2
}
