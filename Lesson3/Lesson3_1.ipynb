{
 "cells": [
  {
   "cell_type": "code",
   "execution_count": 11,
   "metadata": {},
   "outputs": [],
   "source": [
    "class Dog(object):\n",
    "    #自訂的init,建立內建的attribute\n",
    "    def __init__(self,n:str,a:int): #type hint\n",
    "        self.name = n #attribute\n",
    "        self.age = a #attribute\n",
    "    def __repr__(self):\n",
    "        return f'名字{self.name}, 歲數{self.age}'"
   ]
  },
  {
   "cell_type": "code",
   "execution_count": 12,
   "metadata": {},
   "outputs": [
    {
     "name": "stdout",
     "output_type": "stream",
     "text": [
      "Bark\n",
      "8\n",
      "名字Bark, 歲數8\n",
      "====================\n",
      "John\n",
      "2\n",
      "名字John, 歲數2\n"
     ]
    }
   ],
   "source": [
    "#初始化,initial\n",
    "d1 = Dog(n=\"Bark\",a=8)\n",
    "print(d1.name)\n",
    "print(d1.age)\n",
    "print(d1)\n",
    "print(\"====================\")\n",
    "\n",
    "d2 = Dog(n=\"John\",a=2)\n",
    "print(d2.name)\n",
    "print(d2.age)\n",
    "print(d2)"
   ]
  }
 ],
 "metadata": {
  "kernelspec": {
   "display_name": "tvdi",
   "language": "python",
   "name": "python3"
  },
  "language_info": {
   "codemirror_mode": {
    "name": "ipython",
    "version": 3
   },
   "file_extension": ".py",
   "mimetype": "text/x-python",
   "name": "python",
   "nbconvert_exporter": "python",
   "pygments_lexer": "ipython3",
   "version": "3.11.10"
  }
 },
 "nbformat": 4,
 "nbformat_minor": 2
}
