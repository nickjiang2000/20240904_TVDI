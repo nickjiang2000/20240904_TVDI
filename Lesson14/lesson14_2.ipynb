{
 "cells": [
  {
   "cell_type": "code",
   "execution_count": 4,
   "metadata": {},
   "outputs": [
    {
     "name": "stdout",
     "output_type": "stream",
     "text": [
      "[(1, 'Akihabara', 'Asia', 'Japan', 'Akihabara.jpg'), (2, 'Auckland', 'Oceania', 'New Zealand', 'Auckland.jpg'), (3, 'Barcelona', 'Europe', 'Spain', 'Barcelona.jpg'), (4, 'Beijing', 'Asia', 'China', 'Beijing.jpg'), (5, 'Berlin', 'Europe', 'Germany', 'Berlin.jpg'), (6, 'Birmingham', 'Europe', 'United Kingdom', 'Birmingham.jpg'), (7, 'Boston', 'North America', 'United States', 'Boston.jpg'), (8, 'Buenos Aires', 'South America', 'Argentina', 'BuenosAires.jpg'), (9, 'Canberra', 'Oceania', 'Australia', 'Canberra.jpg'), (10, 'Chiba', 'Asia', 'Japan', 'Chiba.jpg'), (11, 'Chicago', 'North America', 'United States', 'Chicago.jpg'), (12, 'Chongqing', 'Asia', 'China', 'Chongqing.jpg'), (13, 'Cologne', 'Europe', 'Germany', 'Cologne.jpg'), (14, 'Cupertino', 'North America', 'United States', 'Cupertino.jpg'), (15, 'Edinburgh', 'Europe', 'United Kingdom', 'Edinburgh.jpg'), (16, 'Florence', 'Europe', 'Italy', 'Florence.jpg'), (17, 'Frankfurt', 'Europe', 'Germany', 'Frankfurt.jpg'), (18, 'Ginza', 'Asia', 'Japan', 'Ginza.jpg'), (19, 'Guangzhou', 'Asia', 'China', 'Guangzhou.jpg'), (20, 'Hamburg', 'Europe', 'Germany', 'Hamburg.jpg'), (21, 'Hong Kong', 'Asia', 'China', 'HongKong.jpg'), (22, 'Houston', 'North America', 'United States', 'Houston.jpg'), (23, 'Hualien', 'Asia', 'Taiwan', 'Hualien.jpg'), (24, 'Ikebukuro', 'Asia', 'Japan', 'Ikebukuro.jpg'), (25, 'Kaohsiung', 'Asia', 'Taiwan', 'Kaohsiung.jpg'), (26, 'Kobe', 'Asia', 'Japan', 'Kobe.jpg'), (27, 'Kuala Lumpur', 'Asia', 'Malaysia', 'KualaLumpur.jpg'), (28, 'Kyoto', 'Asia', 'Japan', 'Kyoto.jpg'), (29, 'Leeds', 'Europe', 'United Kingdom', 'Leeds.jpg'), (30, 'Liverpool', 'Europe', 'United Kingdom', 'Liverpool.jpg'), (31, 'London', 'Europe', 'United Kingdom', 'London.jpg'), (32, 'Los Angeles', 'North America', 'United States', 'LosAngeles.jpg'), (33, 'Lyon', 'Europe', 'France', 'Lyon.jpg'), (34, 'Madrid', 'Europe', 'Spain', 'Madrid.jpg'), (35, 'Manchester', 'Europe', 'United Kingdom', 'Manchester.jpg'), (36, 'Marseille', 'Europe', 'France', 'Marseille.jpg'), (37, 'Meguro', 'Asia', 'Japan', 'Meguro.jpg'), (38, 'Miami', 'North America', 'United States', 'Miami.jpg'), (39, 'Milan', 'Europe', 'Italy', 'Milan.jpg'), (40, 'Montreal', 'North America', 'Canada', 'Montreal.jpg'), (41, 'Mountain View', 'North America', 'United States', 'MountainView.jpg'), (42, 'Munich', 'Europe', 'Germany', 'Munich.jpg'), (43, 'Nagoya', 'Asia', 'Japan', 'Nagoya.jpg'), (44, 'Nanjing', 'Asia', 'China', 'Nanjing.jpg'), (45, 'Narita', 'Asia', 'Japan', 'Narita.jpg'), (46, 'New York', 'North America', 'United States', 'NewYork.jpg'), (47, 'Osaka', 'Asia', 'Japan', 'Osaka.jpg'), (48, 'Oxford', 'Europe', 'United Kingdom', 'Oxford.jpg'), (49, 'Palo Alto', 'North America', 'United States', 'PaloAlto.jpg'), (50, 'Paris', 'Europe', 'France', 'Paris.jpg'), (51, 'Philadelphia', 'North America', 'United States', 'Philadelphia.jpg'), (52, 'Rio de Janeiro', 'South America', 'Brazil', 'RioDeJaneiro.jpg'), (53, 'Rome', 'Europe', 'Italy', 'Rome.jpg'), (54, 'Salvador', 'South America', 'Brazil', 'Salvador.jpg'), (55, 'San Francisco', 'North America', 'United States', 'SanFrancisco.jpg'), (56, 'SÃ£o Paulo', 'South America', 'Brazil', 'SaoPaulo.jpg'), (57, 'Sapporo', 'Asia', 'Japan', 'Sapporo.jpg'), (58, 'Seattle', 'North America', 'United States', 'Seattle.jpg'), (59, 'Shanghai', 'Asia', 'China', 'Shanghai.jpg'), (60, 'Shenyang', 'Asia', 'China', 'Shenyang.jpg'), (61, 'Shibuya', 'Asia', 'Japan', 'Shibuya.jpg'), (62, 'Shinagawa', 'Asia', 'Japan', 'Shinagawa.jpg'), (63, 'Shinjuku', 'Asia', 'Japan', 'Shinjuku.jpg'), (64, 'Singapore', 'Asia', 'Singapore', 'Singapore.jpg'), (65, 'Sumida', 'Asia', 'Japan', 'Sumida.jpg'), (66, 'Sydney', 'Oceania', 'Australia', 'Sydney.jpg'), (67, 'Taichung', 'Asia', 'Taiwan', 'Taichung.jpg'), (68, 'Tainan', 'Asia', 'Taiwan', 'Tainan.jpg'), (69, 'Taipei', 'Asia', 'Taiwan', 'Taipei.jpg'), (70, 'Tianjin', 'Asia', 'China', 'Tianjin.jpg'), (71, 'Tokyo', 'Asia', 'Japan', 'Tokyo.jpg'), (72, 'Toronto', 'North America', 'Canada', 'Toronto.jpg'), (73, 'Ueno', 'Asia', 'Japan', 'Ueno.jpg'), (74, 'Vancouver', 'North America', 'Canada', 'Vancouver.jpg'), (75, 'Victoria', 'North America', 'Canada', 'Victoria.jpg'), (76, 'Washington', 'North America', 'United States', 'Washington.jpg'), (77, 'Wellington', 'Oceania', 'New Zealand', 'Wellington.jpg'), (78, 'Wells', 'Europe', 'United Kingdom', 'Wells.jpg'), (79, 'Westminster', 'Europe', 'United Kingdom', 'Westminster.jpg'), (80, 'Wuhan', 'Asia', 'China', 'Wuhan.jpg'), (81, 'Yokohama', 'Asia', 'Japan', 'Yokohama.jpg')]\n"
     ]
    }
   ],
   "source": [
    "import psycopg2\n",
    "conn = psycopg2.connect(database='postgres',user='nickjiang2000',host='localhost',password='12345')\n",
    "cursor = conn.cursor()\n",
    "cursor.execute('SELECT * FROM city')\n",
    "data = cursor.fetchall()\n",
    "conn.close()\n",
    "print(data)"
   ]
  }
 ],
 "metadata": {
  "kernelspec": {
   "display_name": "tvdi",
   "language": "python",
   "name": "python3"
  },
  "language_info": {
   "codemirror_mode": {
    "name": "ipython",
    "version": 3
   },
   "file_extension": ".py",
   "mimetype": "text/x-python",
   "name": "python",
   "nbconvert_exporter": "python",
   "pygments_lexer": "ipython3",
   "version": "3.11.10"
  }
 },
 "nbformat": 4,
 "nbformat_minor": 2
}
