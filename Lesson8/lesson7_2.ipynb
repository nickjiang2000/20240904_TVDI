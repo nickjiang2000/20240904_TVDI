{
 "cells": [
  {
   "cell_type": "code",
   "execution_count": null,
   "metadata": {
    "vscode": {
     "languageId": "plaintext"
    }
   },
   "outputs": [],
   "source": [
    "import sqlite3\n",
    "def get_county()->list[str]:\n",
    "    '''\n",
    "    docString\n",
    "    parameter:\n",
    "    return:\n",
    "        傳出所有的城市名稱\n",
    "    '''\n",
    "    conn = sqlite3.connect(\"AQI.db\")\n",
    "    with conn:\n",
    "        # Create a cursor object to execute SQL commands\n",
    "        cursor = conn.cursor()\n",
    "        # SQL query to select unique sitenames from records table\n",
    "        sql = '''\n",
    "        SELECT DISTINCT county\n",
    "        FROM records\n",
    "        '''\n",
    "        # Execute the SQL query\n",
    "        cursor.execute(sql)\n",
    "        # Get all results and extract first item from each row into a list\n",
    "        counties = [items[0] for items in cursor.fetchall()]\n",
    "    \n",
    "    # Return the list of unique sitenames\n",
    "    return counties\n",
    "get_county()"
   ]
  },
  {
   "cell_type": "code",
   "execution_count": null,
   "metadata": {
    "vscode": {
     "languageId": "plaintext"
    }
   },
   "outputs": [],
   "source": [
    "def get_sitename(county:str)->list[str]:\n",
    "    '''\n",
    "    docString\n",
    "    parameter:\n",
    "        county:城市名稱\n",
    "\n",
    "    return:\n",
    "        傳出所有的站點名稱\n",
    "    '''\n",
    "    conn = sqlite3.connect(\"AQI.db\")\n",
    "    with conn:\n",
    "        # Create a cursor object to execute SQL commands\n",
    "        cursor = conn.cursor()\n",
    "        # SQL query to select unique sitenames from records table\n",
    "        sql = '''\n",
    "        SELECT DISTINCT sitename\n",
    "        FROM records\n",
    "        WHERE county = ?       \n",
    "         '''\n",
    "        # Execute the SQL query\n",
    "        cursor.execute(sql,(county,))\n",
    "        # Get all results and extract first item from each row into a list\n",
    "        \n",
    "        \n",
    "        sitenames = [items[0] for items in cursor.fetchall()]\n",
    "        print(sitenames)\n",
    "    \n",
    "    # Return the list of unique sitenames\n",
    "    return sitenames\n",
    "\n",
    "get_sitename(\"新北市\")"
   ]
  }
 ],
 "metadata": {
  "language_info": {
   "name": "python"
  }
 },
 "nbformat": 4,
 "nbformat_minor": 2
}
