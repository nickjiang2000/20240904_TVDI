{
 "cells": [
  {
   "cell_type": "code",
   "execution_count": 1,
   "metadata": {},
   "outputs": [
    {
     "name": "stdout",
     "output_type": "stream",
     "text": [
      "[{'aqi': 67, 'date': '2024-11-04 05:00', 'pm25': 25},\n",
      " {'aqi': 68, 'date': '2024-11-04 06:00', 'pm25': 20},\n",
      " {'aqi': 67, 'date': '2024-11-04 07:00', 'pm25': 23},\n",
      " {'aqi': 65, 'date': '2024-11-04 08:00', 'pm25': 19},\n",
      " {'aqi': 64, 'date': '2024-11-04 09:00', 'pm25': 21},\n",
      " {'aqi': 63, 'date': '2024-11-04 10:00', 'pm25': 17},\n",
      " {'aqi': 58, 'date': '2024-11-04 11:00', 'pm25': 11},\n",
      " {'aqi': 55, 'date': '2024-11-04 12:00', 'pm25': 11},\n",
      " {'aqi': 53, 'date': '2024-11-04 13:00', 'pm25': 16},\n",
      " {'aqi': 51, 'date': '2024-11-04 14:00', 'pm25': 12},\n",
      " {'aqi': 49, 'date': '2024-11-04 15:00', 'pm25': 11},\n",
      " {'aqi': 45, 'date': '2024-11-04 16:00', 'pm25': 6},\n",
      " {'aqi': 39, 'date': '2024-11-05 03:00', 'pm25': 11},\n",
      " {'aqi': 37, 'date': '2024-11-05 04:00', 'pm25': 8},\n",
      " {'aqi': 38, 'date': '2024-11-05 05:00', 'pm25': 13},\n",
      " {'aqi': 39, 'date': '2024-11-05 06:00', 'pm25': 12},\n",
      " {'aqi': 40, 'date': '2024-11-05 07:00', 'pm25': 14},\n",
      " {'aqi': 43, 'date': '2024-11-05 08:00', 'pm25': 17},\n",
      " {'aqi': 42, 'date': '2024-11-05 09:00', 'pm25': 12},\n",
      " {'aqi': 46, 'date': '2024-11-05 10:00', 'pm25': 19},\n",
      " {'aqi': 46, 'date': '2024-11-05 11:00', 'pm25': 15},\n",
      " {'aqi': 46, 'date': '2024-11-05 12:00', 'pm25': 0},\n",
      " {'aqi': 53, 'date': '2024-11-05 13:00', 'pm25': 22},\n",
      " {'aqi': 54, 'date': '2024-11-05 14:00', 'pm25': 20},\n",
      " {'aqi': 57, 'date': '2024-11-05 15:00', 'pm25': 20},\n",
      " {'aqi': 57, 'date': '2024-11-05 16:00', 'pm25': 17},\n",
      " {'aqi': 29, 'date': '2024-11-12 03:00', 'pm25': 6},\n",
      " {'aqi': 28, 'date': '2024-11-12 04:00', 'pm25': 7},\n",
      " {'aqi': 28, 'date': '2024-11-12 05:00', 'pm25': 6},\n",
      " {'aqi': 28, 'date': '2024-11-12 06:00', 'pm25': 7},\n",
      " {'aqi': 29, 'date': '2024-11-12 07:00', 'pm25': 11},\n",
      " {'aqi': 30, 'date': '2024-11-12 08:00', 'pm25': 10},\n",
      " {'aqi': 31, 'date': '2024-11-12 09:00', 'pm25': 12},\n",
      " {'aqi': 32, 'date': '2024-11-12 10:00', 'pm25': 12},\n",
      " {'aqi': 33, 'date': '2024-11-12 11:00', 'pm25': 11},\n",
      " {'aqi': 34, 'date': '2024-11-13 02:00', 'pm25': 11},\n",
      " {'aqi': 35, 'date': '2024-11-13 03:00', 'pm25': 14},\n",
      " {'aqi': 42, 'date': '2024-11-13 04:00', 'pm25': 21},\n",
      " {'aqi': 48, 'date': '2024-11-13 05:00', 'pm25': 22},\n",
      " {'aqi': 57, 'date': '2024-11-13 06:00', 'pm25': 31},\n",
      " {'aqi': 66, 'date': '2024-11-13 07:00', 'pm25': 35},\n",
      " {'aqi': 65, 'date': '2024-11-13 08:00', 'pm25': 16},\n",
      " {'aqi': 62, 'date': '2024-11-13 09:00', 'pm25': 9},\n",
      " {'aqi': 57, 'date': '2024-11-13 10:00', 'pm25': 11},\n",
      " {'aqi': 50, 'date': '2024-11-13 11:00', 'pm25': 13},\n",
      " {'aqi': 48, 'date': '2024-11-13 12:00', 'pm25': 14},\n",
      " {'aqi': 51, 'date': '2024-11-13 13:00', 'pm25': 16},\n",
      " {'aqi': 54, 'date': '2024-11-13 14:00', 'pm25': 18},\n",
      " {'aqi': 54, 'date': '2024-11-13 15:00', 'pm25': 14},\n",
      " {'aqi': 32, 'date': '2024-11-19 05:00', 'pm25': 8},\n",
      " {'aqi': 33, 'date': '2024-11-19 06:00', 'pm25': 5},\n",
      " {'aqi': 31, 'date': '2024-11-19 07:00', 'pm25': 9},\n",
      " {'aqi': 31, 'date': '2024-11-19 08:00', 'pm25': 9},\n",
      " {'aqi': 31, 'date': '2024-11-19 09:00', 'pm25': 7},\n",
      " {'aqi': 31, 'date': '2024-11-19 10:00', 'pm25': 5}]\n"
     ]
    }
   ],
   "source": [
    "import sqlite3\n",
    "from pprint import pprint\n",
    "conn = sqlite3.connect(\"AQI.db\")\n",
    "with conn:\n",
    "    cursor = conn.cursor()        \n",
    "    sql = '''\n",
    "    SELECT date,aqi,pm25\n",
    "    FROM records\n",
    "    WHERE sitename = '大城'; \n",
    "    '''\n",
    "    cursor.execute(sql)\n",
    "    data_list = []\n",
    "    for item in cursor.fetchall():\n",
    "        date = item[0]\n",
    "        aqi = item[1]\n",
    "        pm25 = item[2]\n",
    "        data_list.append({'date':date,'aqi':aqi,'pm25':pm25})\n",
    "\n",
    "pprint(data_list)"
   ]
  }
 ],
 "metadata": {
  "kernelspec": {
   "display_name": "tvdi",
   "language": "python",
   "name": "python3"
  },
  "language_info": {
   "codemirror_mode": {
    "name": "ipython",
    "version": 3
   },
   "file_extension": ".py",
   "mimetype": "text/x-python",
   "name": "python",
   "nbconvert_exporter": "python",
   "pygments_lexer": "ipython3",
   "version": "3.11.10"
  }
 },
 "nbformat": 4,
 "nbformat_minor": 2
}
