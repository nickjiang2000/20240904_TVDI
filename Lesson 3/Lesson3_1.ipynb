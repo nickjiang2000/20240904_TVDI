{
 "cells": [
  {
   "cell_type": "code",
   "execution_count": null,
   "metadata": {
    "vscode": {
     "languageId": "plaintext"
    }
   },
   "outputs": [],
   "source": [
    "class Person(object):\n",
    "    #自訂的init,建立內建的attribute\n",
    "    def __init__(self,n:str,a:int): #type hint\n",
    "        self.name = n #attribute\n",
    "        self.age = a #attribute"
   ]
  },
  {
   "cell_type": "code",
   "execution_count": null,
   "metadata": {
    "vscode": {
     "languageId": "plaintext"
    }
   },
   "outputs": [],
   "source": [
    "#初始化,initial\n",
    "p1 = Person(n=\"robert\",a=18)\n",
    "print(p1.name)\n",
    "print(p1.age)\n",
    "\n",
    "print(\"====================\")\n",
    "\n",
    "p2 = Person(n=\"徐國堂\",a=38)\n",
    "print(p2.name)\n",
    "print(p2.age)"
   ]
  }
 ],
 "metadata": {
  "language_info": {
   "name": "python"
  }
 },
 "nbformat": 4,
 "nbformat_minor": 2
}
