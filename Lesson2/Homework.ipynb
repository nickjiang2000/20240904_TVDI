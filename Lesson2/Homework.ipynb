{
 "cells": [
  {
   "cell_type": "code",
   "execution_count": 1,
   "metadata": {},
   "outputs": [
    {
     "name": "stdout",
     "output_type": "stream",
     "text": [
      "<csv.DictReader object at 0x000001A6D426D610>\n",
      "{'name': 'John', 'age': '23', 'city': 'New York'}\n",
      "{'name': 'Jane', 'age': '29', 'city': 'Los Angeles'}\n",
      "{'name': 'Doe', 'age': '25', 'city': 'Chicago'}\n",
      "{'name': 'Anna', 'age': '22', 'city': 'Houston'}\n"
     ]
    }
   ],
   "source": [
    "import csv\n",
    "\n",
    "with open('student.csv', encoding= 'utf-8', newline='') as file:\n",
    "    # 讀取 CSV 檔內容，宣告csv_reader作為迭代器物件後接收CSV檔內容\n",
    "    csv_reader = csv.DictReader(file)\n",
    "    print(csv_reader)\n",
    "    # 初始化一個空列表，用來存放篩選後的結果\n",
    "    AgeOver25 = []\n",
    "    # # 遍歷並輸出CSV文件的每一行，同時篩選出年齡大於25的行\n",
    "    for row in csv_reader:\n",
    "        print(row)\n",
    "        age = int(row['age']) # 取得年齡，並轉換為整數\n",
    "        if age > 25:\n",
    "            AgeOver25.append(row)\n"
   ]
  },
  {
   "cell_type": "code",
   "execution_count": 5,
   "metadata": {},
   "outputs": [],
   "source": [
    "with open('AgeOver25.csv', mode='w', newline='', encoding='UTF-8') as new_file:\n",
    "    fieldnames = ['name', 'age', 'city']\n",
    "    writer = csv.DictWriter(new_file, fieldnames=fieldnames)\n",
    "    \n",
    "    # 寫入標題\n",
    "    writer.writeheader()\n",
    "    \n",
    "    # 寫入篩選的資料\n",
    "    writer.writerows(AgeOver25)"
   ]
  }
 ],
 "metadata": {
  "kernelspec": {
   "display_name": "tvdi",
   "language": "python",
   "name": "python3"
  },
  "language_info": {
   "codemirror_mode": {
    "name": "ipython",
    "version": 3
   },
   "file_extension": ".py",
   "mimetype": "text/x-python",
   "name": "python",
   "nbconvert_exporter": "python",
   "pygments_lexer": "ipython3",
   "version": "3.11.10"
  }
 },
 "nbformat": 4,
 "nbformat_minor": 2
}
